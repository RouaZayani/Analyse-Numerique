{
 "cells": [
  {
   "cell_type": "code",
   "execution_count": 3,
   "metadata": {},
   "outputs": [
    {
     "ename": "IndentationError",
     "evalue": "expected an indented block (<ipython-input-3-73a681b0f8dd>, line 2)",
     "output_type": "error",
     "traceback": [
      "\u001b[0;36m  File \u001b[0;32m\"<ipython-input-3-73a681b0f8dd>\"\u001b[0;36m, line \u001b[0;32m2\u001b[0m\n\u001b[0;31m    def __init__(self, a,b,n,f):\u001b[0m\n\u001b[0m    ^\u001b[0m\n\u001b[0;31mIndentationError\u001b[0m\u001b[0;31m:\u001b[0m expected an indented block\n"
     ]
    }
   ],
   "source": [
    "class RectangleG (object):\n",
    "def _ _init_ _(self,a,b,n,f):\n",
    "self.a = a\n",
    "self.b = b\n",
    "self.x = np.linspace( a , b , n+1)\n",
    "self.f = f\n",
    "self.n = n\n",
    "def integrate ( self, f ):\n",
    "x= self.x\n",
    "y= f(x)\n",
    "h = float (x [1] − x [0])\n",
    "s = sum( y [ 0 : − 1] )\n",
    "return h ∗ s\n",
    "def Graph ( self , f , resolution =1001) :\n",
    "xl = self.x\n",
    "yl = f (xl)\n",
    "xlist_fine=np .linspace( self . a , self.b , resolution )\n",
    "f o r i in range ( self.n ) :\n",
    "x_rect = [ xl[ i ] , xl[ i ] , xl[ i + 1 ] , xl[ i + 1 ] , xl[ i ] ] # abscisses des sommets\n",
    "y_rect = [0, yl[ i ] , yl[ i ], 0, 0] # ordonnees des sommets\n",
    "plot ( x_rect , y_rect , \" r \" )\n",
    "yflist_fine = f ( xlist_fine )\n",
    "plt. plot ( xlist_fine , yflist_fine)\n",
    "#plt.plot(xl, yl,\"bo-\")\n",
    "plt.xlabel ( ’x ’ )\n",
    "plt.ylabel ( ’ f ( x ) ’ )\n",
    "p l t.t i t l e ( ’ Methode des r e c t a n g l e s gauches ’ )\n",
    "text ( 0 . 5 ∗ ( self.a+ self.b),f(self.b) , ’ $I_n$ =%12.4 f ’ % ( self.integrate(f)) ,fontsize=15)"
   ]
  },
  {
   "cell_type": "code",
   "execution_count": 4,
   "metadata": {},
   "outputs": [
    {
     "ename": "IndentationError",
     "evalue": "expected an indented block (<ipython-input-4-30f680ab2755>, line 2)",
     "output_type": "error",
     "traceback": [
      "\u001b[0;36m  File \u001b[0;32m\"<ipython-input-4-30f680ab2755>\"\u001b[0;36m, line \u001b[0;32m2\u001b[0m\n\u001b[0;31m    def _ _ i n i t _ _ (self,a,b,n,f):\u001b[0m\n\u001b[0m    ^\u001b[0m\n\u001b[0;31mIndentationError\u001b[0m\u001b[0;31m:\u001b[0m expected an indented block\n"
     ]
    }
   ],
   "source": [
    "class RectangleM(object):\n",
    "def _ _ i n i t _ _ (self,a,b,n,f):\n",
    "self.a = a\n",
    "self.b = b\n",
    "sefl.x= np.linspace( a , b , n+1)\n",
    "self.f = f\n",
    "self.n = n\n",
    "def integrate(self,f):\n",
    "x= self.x\n",
    "y= f(x)\n",
    "###les points milieux m????!!!\n",
    "#h = A complèter\n",
    "#s = A compléter\n",
    "return h ∗ s\n",
    "def Graph (self,f,resolution=1001) :\n",
    "xl = self.x\n",
    "yl = f(xl)\n",
    "xlist_fine=np .linspace( self.a ,self.b ,resolution)\n",
    "##### dessiner les rectangles points milieux\n",
    "for i in range (self.n ):\n",
    "#A completer # abscisses des sommets\n",
    "#A compléter # ordonnees des sommets\n",
    "plot ( x_rect , y_rect , \" r \" )\n",
    "yflist_fine = f ( xlist_fine )\n",
    "plt.plot ( xlist_fine , yflist_fine)\n",
    "# plt.plot(xl, yl,\"bo-\")\n",
    "plt.xlabel ( ’x ’ )\n",
    "plt.ylabel ( ’ f ( x ) ’ )\n",
    "plt.title( ’ Methode des p o i n t s m i l i e u x ’ )\n",
    "text ( 0.5 ∗ (self.a+self.b) , f(self.b ) , ’ $I_n$ =%12.4 f ’ % (self.integrate( f ) ) ,fontsize=15)"
   ]
  },
  {
   "cell_type": "code",
   "execution_count": null,
   "metadata": {},
   "outputs": [],
   "source": [
    "class Trapezoidal(object):\n",
    "def _ _ i n i t _ _ (self,a,b,n,f):\n",
    "self.a = a\n",
    "self.b = b\n",
    "sefl.x= np.linspace( a , b , n+1)\n",
    "self.f = f\n",
    "self.n = n\n",
    "def integrate(self,f):\n",
    "x= self.x\n",
    "y= f(x)\n",
    "#h = A compléter\n",
    "#s = A compléter\n",
    "return h ∗ s / 2.0\n",
    "def Graph (self,f,resolution=1001) :\n",
    "xl = self.x\n",
    "yl = f(xl)\n",
    "xlist_fine=np .linspace( self.a ,self.b ,resolution)\n",
    "for i in range (self.n ):\n",
    "#A compléter # abscisses des sommets\n",
    "#A compléter # ordonnees des sommets\n",
    "plot ( x_rect , y_rect , \" r \" )\n",
    "yflist_fine = f ( xlist_fine )\n",
    "plt.plot ( xlist_fine , yflist_fine)\n",
    "plt.title( ’ Methode des p o i n t s m i l i e u x ’ )\n",
    "plt.xlabel ( ’x ’ )\n",
    "plt.ylabel ( ’ f ( x ) ’ )\n",
    "#plt.plot(xl, yl,\"bo-\")\n",
    "text ( 0.5 ∗ (self.a+self.b) , f(self.b ) , ’ $I_n$ =%12.4 f ’ % (self.integrate( f ) ) ,fontsize=15)"
   ]
  }
 ],
 "metadata": {
  "kernelspec": {
   "display_name": "Python 3",
   "language": "python",
   "name": "python3"
  },
  "language_info": {
   "codemirror_mode": {
    "name": "ipython",
    "version": 3
   },
   "file_extension": ".py",
   "mimetype": "text/x-python",
   "name": "python",
   "nbconvert_exporter": "python",
   "pygments_lexer": "ipython3",
   "version": "3.8.3"
  }
 },
 "nbformat": 4,
 "nbformat_minor": 4
}
