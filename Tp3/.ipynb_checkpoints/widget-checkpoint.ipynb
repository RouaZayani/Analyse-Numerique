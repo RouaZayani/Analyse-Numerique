{
 "cells": [
  {
   "cell_type": "markdown",
   "metadata": {},
   "source": [
    "# <center> Tp3 </center>"
   ]
  },
  {
   "cell_type": "markdown",
   "metadata": {},
   "source": [
    "<h1> <span style=\"color:red\"> 1-Objectif : </span> </h1>\n",
    "<p> <FONT size=\"4\" face=\"Times New Roman\"> Le but de ce Projet est de comparer les 4 méthode d’intégrations numériques: Méthode de rectangle, méthode de trapéze, méthode de point milieu et la méthode de simpson.</FONT></p>\n",
    "<h2> <span style=\"color:red\"> 2-Partie théorique: </span> </h2>"
   ]
  },
  {
   "cell_type": "markdown",
   "metadata": {},
   "source": [
    "<p> <FONT size=\"4\" face=\"Times New Roman\">On considére une fonction f d´efinie sur un intervalle [a,b], continue par morceaux, et\n",
    "positive. Le nombre $$\\int_a^b f(x) \\,dx,$$ d´esigne l’aire de la r´egion d´elimit´ee par le graphe de f\n",
    "l’horizontale y = 0 et les deux verticales x = a et x = b <br/>\n",
    "On appelle formule composite l’expression caractérisant cette estimation.\n",
    "Notons k l’indice des n sous-intervalles, h=$\\frac{b-a}{N}$ la longueur de chacun d’eux, x_k = a + kh la borne inférieure et m_k = a + (k + $\\frac{1}{2}$)h le point milieu, ceci pour k entre 0 et n − 1. Voici quelques formules composites :   \n",
    "</FONT></p>\n",
    "<h2 style='color:#26B260'>La méthode des rectangles.</h2>\n",
    "<p><FONT size=\"4\" face=\"Times New Roman\">On partage l’intervalle [a, b] en n parties de longueur b−a/n:\n",
    "On approxime I par la somme Rn des aires des rectangles de base <br/> [xi+1 − xi] et de hauteur\n",
    "f(xi) : Rn = (x1 − x0)f(x0) + (x2 − x1)f(x1) + · · ·(xn − xn−1)f(xn−1) =b − a/n*[f(x0) + f(x1) + · · · f(xn−1)] .\n",
    " D’aprés la définition que nous avons prise de l’intégrale, nous avons limn→+∞ Rn = I.</FONT></p>\n",
    "<h2 style='color:#26B260'>La méthode des trapéze.</h2>\n",
    "<p><FONT size=\"4\" face=\"Times New Roman\">\n",
    "x_k+1 − x_k = h (le pas est donc la diffèrence entre chaque deux points consécutifs.) En appliquant la relation de Chasles, la formule composite des trapèzes est donnée comme suit :\n",
    "$$ I = \\displaystyle \\int_a^b f(x) \\,dx  =  \\frac{b-a}{n}*(\\frac{f(a)+f(b)}{2} \\sum_{i=0}^N f(a+kh))$$\n",
    "</FONT></p>\n",
    "<h2 style='color:#26B260'>La méthode des point milieu</h2>\n",
    "<p><FONT size=\"4\" face=\"Times New Roman\">\n",
    "la formule composite des point milieu est donnée comme suit :\n",
    "$$ I = \\displaystyle \\int_a^b f(x) \\,dx  =  \\frac{b-a}{n}*(\\sum_{i=0}^N f(m_i))$$\n",
    "</FONT></p>\n",
    "<h2 style='color:#26B260'>La méthode de Simpson </h2>\n",
    "<p><FONT size=\"4\" face=\"Times New Roman\">\n",
    "h =$\\frac{b-a}{N}$ <br/>\n",
    "la formule composite de Simpson est donnée comme suit :\n",
    "$$ I = \\displaystyle \\int_a^b f(x) \\,dx  =  \\frac{h}{6}*(f(a)+f(b)+2*\\sum_{i=1}^N f(x_i)+4*\\sum_{i=0}^N f(m_i))$$\n",
    "</FONT></p>\n",
    "<h2> <span style=\"color:red\"> 3-Partie pratique: </span> </h2>"
   ]
  },
  {
   "cell_type": "code",
   "execution_count": 1,
   "metadata": {
    "scrolled": true
   },
   "outputs": [],
   "source": [
    "%matplotlib widget\n",
    "import ipywidgets as widgets\n",
    "import matplotlib.pyplot as plt\n",
    "import numpy as np\n",
    "import scipy.integrate as integrate\n",
    "from numpy import *"
   ]
  },
  {
   "cell_type": "code",
   "execution_count": 2,
   "metadata": {},
   "outputs": [],
   "source": [
    "class RectangleG ( object ) :\n",
    "    def __init__ (self , a , b , n , f ) :\n",
    "        self.a = a\n",
    "        self.b = b\n",
    "        self.x = np.linspace( a , b , n+1 )\n",
    "        self.f = f\n",
    "        self.n = n\n",
    "    def integrate ( self , f ) :\n",
    "        x= self.x\n",
    "        y= f( x )\n",
    "        h = float( x[1] - x[0] )\n",
    "        s = sum( y[ 0 : -1 ] )\n",
    "        return h * s\n",
    "    def Graph ( self , f , resolution =1001 ) :\n",
    "        xl = self.x\n",
    "        yl = f(xl)\n",
    "        xlist_fine =np.linspace( self.a , self.b , resolution )\n",
    "        for i in range ( self.n ) :\n",
    "            x_rect = [xl[ i ] , xl[ i ] , xl[ i + 1 ] , xl[i+1] , xl[ i ] ] # abscisses des sommets\n",
    "            y_rect = [0 , yl[ i ] , yl[ i ] , 0 , 0 ] # ordonnees des sommets\n",
    "            plt.plot ( x_rect , y_rect , 'r' )\n",
    "        yflist_fine = f ( xlist_fine )\n",
    "        plt.plot ( xlist_fine , yflist_fine )\n",
    "        plt.plot(xl, yl,\"bo\")\n",
    "        plt.xlabel ( 'x' )\n",
    "        plt.ylabel ( ' f ( x ) ' )\n",
    "        plt.title ( ' Methode des rectangles gauches' )\n",
    "        #plt.text( 0.5*( self.a+ self.b ) , f(self.b ) , 'I_{} ={:0.8f}'.format(self.n,self.integrate( f ) ) , fontsize =15 )   "
   ]
  },
  {
   "cell_type": "code",
   "execution_count": 3,
   "metadata": {},
   "outputs": [],
   "source": [
    "class Trapezoidal(object):\n",
    "    def __init__(self, a, b, n, f):\n",
    "        self.a = a\n",
    "        self.b = b\n",
    "        self.x = np.linspace(a, b, n+1)\n",
    "        self.f = f\n",
    "        self.n = n\n",
    "    def integrate(self,f):\n",
    "        x=self.x\n",
    "        y=f(x)\n",
    "        h = float(x[1] - x[0])\n",
    "        s = y[0] + y[-1] + 2.0*sum(y[1:-1])\n",
    "        return h * s / 2.0\n",
    "    def Graph(self,f,resolution=1001):\n",
    "        xl = self.x\n",
    "        yl = f(xl)\n",
    "        xlist_fine=np.linspace(self.a, self.b, resolution)\n",
    "        for i in range(self.n):\n",
    "            x_rect = [xl[i], xl[i], xl[i+1], xl[i+1], xl[i]] # abscisses des sommets\n",
    "            y_rect = [0   , yl[i], yl[i+1]  , 0     , 0   ] # ordonnees des sommets\n",
    "            plt.plot(x_rect, y_rect,\"m\")\n",
    "        yflist_fine = f(xlist_fine)\n",
    "        plt.plot(xlist_fine, yflist_fine)#plot de f(x)\n",
    "        plt.plot(xl, yl,'bo')\n",
    "        plt.ylabel ( ' f ( x ) ' )\n",
    "        plt.title ( ' Methode des Trapèzes' )"
   ]
  },
  {
   "cell_type": "code",
   "execution_count": 4,
   "metadata": {},
   "outputs": [],
   "source": [
    "class Simpson(object):\n",
    "    def __init__(self, a, b, n, f):\n",
    "        self.a = a\n",
    "        self.b = b\n",
    "        self.x = np.linspace(a, b, n+1)\n",
    "        self.f = f\n",
    "        self.n = n\n",
    "    def integrate ( self , f ) :\n",
    "        x= self.x\n",
    "        y= f(x)\n",
    "        h = float(x[2] - x[1])\n",
    "        n = len(x) - 1\n",
    "        if n % 2 ==0:\n",
    "            s = y[0] + y[n] + 4.0 * sum(y[1:-1:2]) + 2.0 * sum(y[2:-2:2])\n",
    "        return h * s / 3.0\n",
    "    def Graph(self , f , resolution =1001):\n",
    "        xl = self.x\n",
    "        yl = f(xl)\n",
    "        xlist_fine =np.linspace( self.a , self.b , resolution )\n",
    "        for i in range ( self.n ) :\n",
    "            xx = np.linspace(xl[ i ],xl[i + 1],resolution)\n",
    "            m = (xl[i]+ xl[i + 1])/ 2\n",
    "            a = xl[i]\n",
    "            b = xl[i +1]\n",
    "            l0  =(xx-m)/(a-m)*(xx-b)/(a-b)\n",
    "            l1 =(xx-a)/(m-a)*(xx-b)/(m-b)\n",
    "            l2 =(xx-a)/(b-a)*(xx-m)/(b-m)\n",
    "            P = f(a)*l0 + f(m)*l1 + f(b)*l2\n",
    "        plt.plot( xx , P , \"r\")\n",
    "        yflist_fine = f(xlist_fine)\n",
    "        plt.plot(xlist_fine, yflist_fine,\"g\")#plot de f(x)\n",
    "        plt.plot(xl, yl,'bo')#point support\n",
    "        plt.ylabel ( ' f ( x ) ' )\n",
    "        plt.title ( ' Simpson' )"
   ]
  },
  {
   "cell_type": "code",
   "execution_count": 5,
   "metadata": {},
   "outputs": [],
   "source": [
    "class PointMilieu(object):\n",
    "    def __init__(self, a, b, n, f):\n",
    "        self.a = a\n",
    "        self.b = b\n",
    "        self.x = np.linspace(a, b, n+1)\n",
    "        self.f = f\n",
    "        self.n = n\n",
    "    def integrate(self,f):\n",
    "        x=self.x\n",
    "        y=f(x)\n",
    "        h = float(x[1] - x[0])\n",
    "        s = 0\n",
    "        n=len(x)-1\n",
    "        for i in range(n):\n",
    "            s=s+f((x[i]+x[i+1])*0.5)\n",
    "        return h * s\n",
    "    def Graph(self,f,resolution=1001):\n",
    "        xl = self.x\n",
    "        yl = f(xl)\n",
    "        xlist_fine=np.linspace(self.a, self.b, resolution)\n",
    "        for i in range(self.n):\n",
    "            m=(xl[i]+xl[i+1])/2\n",
    "            x_rect = [xl[i], xl[i], xl[i+1], xl[i+1], xl[i]] # abscisses des sommets\n",
    "            y_rect = [0   , f(m), f(m)  , 0     , 0   ] # ordonnees des sommets\n",
    "            plt.plot(x_rect, y_rect,\"r\")\n",
    "            plt.plot(m,f(m),\"bo\")\n",
    "        yflist_fine = f(xlist_fine)\n",
    "        plt.plot(xlist_fine, yflist_fine)#plot de f(x)\n",
    "        plt.xlabel ( ' x ' )\n",
    "        plt.ylabel ( ' f ( x ) ' )\n",
    "        plt.title ( ' Methode des milieu' )"
   ]
  },
  {
   "cell_type": "markdown",
   "metadata": {},
   "source": [
    "### On va comparer les 4 méthode d’intégrations numériques selon la fonction."
   ]
  },
  {
   "cell_type": "code",
   "execution_count": 6,
   "metadata": {},
   "outputs": [],
   "source": [
    "# create some control elements\n",
    "select=widgets.Dropdown(\n",
    "    options=[('Méthode des rectangles gauches',1),('Méthode des trapézes',2),('Méthode des Simpson',3),\n",
    "           ('Méthode des points Milieux',4)],\n",
    "    value=2,\n",
    "    description='Méthode:',\n",
    ")\n",
    "\n",
    "fonction=widgets.Dropdown(\n",
    "    options=['cos(x)','sin(x)','1/(1+x**2)','x**2-x+5'],\n",
    "    value='sin(x)',\n",
    "    description='Fonction:',\n",
    "    disabled=False,\n",
    ")\n",
    "#text_func = widgets.Text(value='cos(x)', description='Fonction', continuous_update=False)\n",
    "text_a = widgets.Text(value='-1', description='a', continuous_update=False)\n",
    "text_b = widgets.Text(value='1' , description='b', continuous_update=False)\n",
    "text_n = widgets.Text(value='' , description='n', continuous_update=False)\n",
    "text_R=widgets.Text(value='' , description='IRectangle_n', continuous_update=True)\n",
    "text_T=widgets.Text(value='' , description='ITrapeze_n', continuous_update=False)\n",
    "text_M=widgets.Text(value='' , description='IMilieu_n', continuous_update=False)\n",
    "text_S=widgets.Text(value='' , description='ISimpson_n', continuous_update=False)\n",
    "erreur_R = widgets.Text(value='' , description='E_Rectabgle', continuous_update=False)\n",
    "erreur_T= widgets.Text(value='' , description='E_Trapeze', continuous_update=False)\n",
    "erreur_S = widgets.Text(value='' , description='E_Simpson', continuous_update=False)\n",
    "erreur_M = widgets.Text(value='' , description='E_Milieu', continuous_update=False)\n",
    "button1=widgets.Button(description=\"Afficher\")\n",
    "#text_err=widgets.Text(value='' , description='erreur', continuous_update=False)\n",
    "# callback functions\n",
    "def sim2(b):\n",
    "    f=lambda x:eval(fonction.value)\n",
    "    plt.clf()\n",
    "    R=RectangleG(float(text_a.value),float(text_b.value),int(text_n.value),f)\n",
    "    T=Trapezoidal(float(text_a.value),float(text_b.value),int(text_n.value),f)\n",
    "    M=PointMilieu(float(text_a.value),float(text_b.value),int(text_n.value),f)\n",
    "    S=Simpson(float(text_a.value),float(text_b.value),int(text_n.value),f)\n",
    "    result,e = integrate.quad(f, float(text_a.value), float(text_b.value))\n",
    "    fig.add_subplot(221)\n",
    "    R.Graph(f)  \n",
    "    fig.add_subplot(222)    \n",
    "    T.Graph(f)\n",
    "    fig.add_subplot(223)\n",
    "    M.Graph(f)\n",
    "    fig.add_subplot(224)\n",
    "    S.Graph(f)\n",
    "    plt.tight_layout(pad=0.4, w_pad=0.5, h_pad=1.0)\n",
    "    plt.show()\n",
    "    text_R.value=str(R.integrate(f))\n",
    "    text_R.description=\"IRectangle_\"+text_n.value\n",
    "    text_T.value=str(T.integrate(f))\n",
    "    text_T.description=\"ITrapeze_\"+text_n.value\n",
    "    text_S.value=str(S.integrate(f))\n",
    "    text_S.description=\"ISimpson_\"+text_n.value\n",
    "    text_M.value=str(M.integrate(f))\n",
    "    text_M.description=\"IMilieu_\"+text_n.value\n",
    "    erreur_R.value=str(result-R.integrate(f))\n",
    "    erreur_T.value=str(result-T.integrate(f))\n",
    "    erreur_S.value=str(result-S.integrate(f))\n",
    "    erreur_M.value=str(result-M.integrate(f))\n",
    "def update_a(change):\n",
    "    change.new\n",
    "def update_b(change):\n",
    "    change.new\n",
    "def update_n(change):\n",
    "    change.new\n",
    "def update_f(change):\n",
    "    change.new\n",
    "#button.on_click(sim)\n",
    "button1.on_click(sim2)\n",
    "#text_func.observe(update_f,'value')\n",
    "text_a.observe(update_a,'value')\n",
    "text_b.observe(update_b,'value')"
   ]
  },
  {
   "cell_type": "code",
   "execution_count": 7,
   "metadata": {},
   "outputs": [],
   "source": [
    "output = widgets.Output()\n",
    "with output:\n",
    "    fig, ax = plt.subplots(constrained_layout=True, figsize=(6, 4))\n",
    "     \n",
    "# move the toolbar to the bottom\n",
    "fig.canvas.toolbar_position = 'bottom'\n"
   ]
  },
  {
   "cell_type": "code",
   "execution_count": 8,
   "metadata": {
    "scrolled": true
   },
   "outputs": [
    {
     "data": {
      "application/vnd.jupyter.widget-view+json": {
       "model_id": "a449bae98dc74e22ad986ef9aec56491",
       "version_major": 2,
       "version_minor": 0
      },
      "text/plain": [
       "HBox(children=(VBox(children=(Dropdown(description='Fonction:', index=1, options=('cos(x)', 'sin(x)', '1/(1+x*…"
      ]
     },
     "metadata": {},
     "output_type": "display_data"
    }
   ],
   "source": [
    "def make_box():\n",
    "    box1=widgets.VBox([fonction,text_a,text_b,text_n,button1,text_R,erreur_R,text_T,erreur_T,text_M,erreur_M,text_S,erreur_S])\n",
    "    box2=widgets.VBox([output])\n",
    "    return box1\n",
    "layout=widgets.Layout(\n",
    "    border='solid 2px gray',\n",
    "    margin='0px 5px 5px 0px'\n",
    ")\n",
    "box1=make_box()\n",
    "box1.layout=layout\n",
    "#box2.layout=layout\n",
    "widgets.HBox([box1,output])"
   ]
  },
  {
   "cell_type": "code",
   "execution_count": null,
   "metadata": {},
   "outputs": [],
   "source": []
  }
 ],
 "metadata": {
  "kernelspec": {
   "display_name": "Python 3",
   "language": "python",
   "name": "python3"
  },
  "language_info": {
   "codemirror_mode": {
    "name": "ipython",
    "version": 3
   },
   "file_extension": ".py",
   "mimetype": "text/x-python",
   "name": "python",
   "nbconvert_exporter": "python",
   "pygments_lexer": "ipython3",
   "version": "3.8.3"
  }
 },
 "nbformat": 4,
 "nbformat_minor": 4
}
