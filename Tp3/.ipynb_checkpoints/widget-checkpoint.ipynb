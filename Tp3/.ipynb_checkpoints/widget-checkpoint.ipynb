{
 "cells": [
  {
   "cell_type": "code",
   "execution_count": null,
   "metadata": {},
   "outputs": [],
   "source": [
    "#conda install -c conda-forge ipympl\n"
   ]
  },
  {
   "cell_type": "code",
   "execution_count": 2,
   "metadata": {
    "scrolled": true
   },
   "outputs": [],
   "source": [
    "import ipywidgets as widgets\n",
    "import matplotlib.pyplot as plt\n",
    "import numpy as np\n",
    "from numpy import *"
   ]
  },
  {
   "cell_type": "code",
   "execution_count": 9,
   "metadata": {},
   "outputs": [],
   "source": [
    "# create some control elements\n",
    "select=widgets.Dropdown(\n",
    "    options=[('Méthode des rectangles gauches',1),('Méthode des trapézes',2),('Méthode des Simpson',3),\n",
    "           ('Méthode des points Milieux',4)],\n",
    "    value=2,\n",
    "    description='Méthode:',\n",
    ")\n",
    "text_func = widgets.Text(value='cos(x)', description='Fonction', continuous_update=False)\n",
    "text_xlabel = widgets.Text(value='', description='xlabel', continuous_update=False)\n",
    "text_ylabel = widgets.Text(value='', description='ylabel', continuous_update=False)\n",
    "text_a = widgets.Text(value='-1', description='a', continuous_update=False)\n",
    "text_b = widgets.Text(value='1' , description='b', continuous_update=False)\n",
    "text_n = widgets.Text(value='' , description='n', continuous_update=False)\n",
    "text_integral=widgets.Text(value='' , description='I_n', continuous_update=False)\n",
    "button=widgets.Button(description=\"Calculer\")\n",
    "# callback functions\n",
    "def sim(b):\n",
    "    meth={1:RectangleG,2:Trapezoidal,3:Simpson,4:Milieu}\n",
    "    s=select.value\n",
    "    plt.cla()\n",
    "    function=lambda x:eval(text_func.value)\n",
    "    text_integral.value=str(R.integrate(function))\n",
    "    text_integral.description=\"I_\"+text_n.value\n",
    "def update_a(change):\n",
    "    change.new\n",
    "def update_b(change):\n",
    "    change.new\n",
    "def update_n(change):\n",
    "    change.new\n",
    "def update_f(change):\n",
    "    change.new\n",
    "button.on_click(sim)\n",
    "text_func.observe(update_f,'value')\n",
    "text_a.observe(update_a,'value')\n",
    "text_b.observe(update_b,'value')\n",
    "text_n.observe(update_n,'value')"
   ]
  },
  {
   "cell_type": "code",
   "execution_count": 10,
   "metadata": {},
   "outputs": [
    {
     "data": {
      "image/png": "[encoded data removed]",
      "text/plain": [
       "<Figure size 432x288 with 1 Axes>"
      ]
     },
     "metadata": {
      "needs_background": "light"
     },
     "output_type": "display_data"
    }
   ],
   "source": [
    "output = widgets.Output()\n",
    "with output:\n",
    "    fig, ax = plt.subplots(constrained_layout=True, figsize=(6, 4))\n",
    "     \n",
    "# move the toolbar to the bottom\n",
    "fig.canvas.toolbar_position = 'bottom'"
   ]
  },
  {
   "cell_type": "code",
   "execution_count": 11,
   "metadata": {},
   "outputs": [
    {
     "data": {
      "application/vnd.jupyter.widget-view+json": {
       "model_id": "f63dcc97be9d488bb1645581822abf68",
       "version_major": 2,
       "version_minor": 0
      },
      "text/plain": [
       "HBox(children=(VBox(children=(Dropdown(description='Méthode:', index=1, options=(('Méthode des rectangles gauc…"
      ]
     },
     "metadata": {},
     "output_type": "display_data"
    }
   ],
   "source": [
    "def make_box():\n",
    "    box1=widgets.VBox([select,text_a,text_b,text_n,button,text_integral])\n",
    "    return box1\n",
    "layout=widgets.Layout(\n",
    "    border='solid 2px gray',\n",
    "    margin='0px 10px 10px 0px',\n",
    "    padding='5px 5px 5px 5px'\n",
    ")\n",
    "box1=make_box()\n",
    "box1.layout=layout\n",
    "widgets.HBox([box1,output])"
   ]
  },
  {
   "cell_type": "code",
   "execution_count": null,
   "metadata": {},
   "outputs": [],
   "source": []
  }
 ],
 "metadata": {
  "kernelspec": {
   "display_name": "Python 3",
   "language": "python",
   "name": "python3"
  },
  "language_info": {
   "codemirror_mode": {
    "name": "ipython",
    "version": 3
   },
   "file_extension": ".py",
   "mimetype": "text/x-python",
   "name": "python",
   "nbconvert_exporter": "python",
   "pygments_lexer": "ipython3",
   "version": "3.8.3"
  }
 },
 "nbformat": 4,
 "nbformat_minor": 4
}
